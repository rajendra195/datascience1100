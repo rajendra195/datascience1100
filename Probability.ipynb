{
  "nbformat": 4,
  "nbformat_minor": 0,
  "metadata": {
    "colab": {
      "provenance": []
    },
    "kernelspec": {
      "name": "python3",
      "display_name": "Python 3"
    },
    "language_info": {
      "name": "python"
    }
  },
  "cells": [
    {
      "cell_type": "markdown",
      "source": [
        "# Probability is just a guide. It doesn't tell wxactly what will happen."
      ],
      "metadata": {
        "id": "7mFpDhTxMrD1"
      }
    },
    {
      "cell_type": "code",
      "source": [
        "import numpy as np\n",
        "total_no_of_outcomes = np.array([\"Head\", \"Tail\"])\n",
        "length = len(total_no_of_outcomes)\n",
        "length"
      ],
      "metadata": {
        "colab": {
          "base_uri": "https://localhost:8080/"
        },
        "id": "h_KkaXw1Mz-f",
        "outputId": "5eedab1b-93b3-4bab-a279-992716484a9c"
      },
      "execution_count": null,
      "outputs": [
        {
          "output_type": "execute_result",
          "data": {
            "text/plain": [
              "2"
            ]
          },
          "metadata": {},
          "execution_count": 4
        }
      ]
    },
    {
      "cell_type": "code",
      "source": [
        "outcome = [total_no_of_outcomes[np.random.randint(0, length)] for i in range(100)]\n",
        "# outcome"
      ],
      "metadata": {
        "id": "lumCUXWrM85T"
      },
      "execution_count": null,
      "outputs": []
    },
    {
      "cell_type": "code",
      "source": [
        "import pandas as pd\n",
        "pd.Series(outcome).value_counts()"
      ],
      "metadata": {
        "colab": {
          "base_uri": "https://localhost:8080/"
        },
        "id": "cYojLOsFNKlS",
        "outputId": "f04d73bc-0abe-4fe0-bcea-9770ddf1fe51"
      },
      "execution_count": null,
      "outputs": [
        {
          "output_type": "execute_result",
          "data": {
            "text/plain": [
              "Tail    60\n",
              "Head    40\n",
              "dtype: int64"
            ]
          },
          "metadata": {},
          "execution_count": 9
        }
      ]
    },
    {
      "cell_type": "code",
      "source": [],
      "metadata": {
        "id": "S6PTJS4MNOwC"
      },
      "execution_count": null,
      "outputs": []
    }
  ]
}