{
  "nbformat": 4,
  "nbformat_minor": 0,
  "metadata": {
    "colab": {
      "provenance": []
    },
    "kernelspec": {
      "name": "python3",
      "display_name": "Python 3"
    },
    "language_info": {
      "name": "python"
    }
  },
  "cells": [
    {
      "cell_type": "code",
      "execution_count": 1,
      "metadata": {
        "id": "B_y_vrxoDCJc"
      },
      "outputs": [],
      "source": [
        "mu = 50 # dairy milk claims"
      ]
    },
    {
      "cell_type": "code",
      "source": [
        "import numpy as np\n",
        "np.random.seed(0)\n",
        "sample_weight = np.random.randint(low=46, high=55, size=25)"
      ],
      "metadata": {
        "id": "WNL3yj8hLdCU"
      },
      "execution_count": 3,
      "outputs": []
    },
    {
      "cell_type": "code",
      "source": [
        "sample_weight"
      ],
      "metadata": {
        "colab": {
          "base_uri": "https://localhost:8080/"
        },
        "id": "xEwMXctlL3y-",
        "outputId": "575ecf85-087c-484e-ef62-868942452d8a"
      },
      "execution_count": 4,
      "outputs": [
        {
          "output_type": "execute_result",
          "data": {
            "text/plain": [
              "array([51, 46, 49, 49, 53, 49, 51, 48, 50, 53, 52, 54, 54, 47, 52, 53, 53,\n",
              "       54, 47, 51, 54, 50, 49, 46, 49])"
            ]
          },
          "metadata": {},
          "execution_count": 4
        }
      ]
    },
    {
      "cell_type": "code",
      "source": [
        "H0 = \"There is no difference in means.\"\n",
        "H1 = \"There is significance difference in means\"   # yesko language milaune\n",
        "alpha = 0.05"
      ],
      "metadata": {
        "id": "WhrHBihSL7tH"
      },
      "execution_count": 5,
      "outputs": []
    },
    {
      "cell_type": "code",
      "source": [
        "from scipy import stats\n",
        "result = stats.ttest_1samp(sample_weight, popmean=mu)\n",
        "result"
      ],
      "metadata": {
        "colab": {
          "base_uri": "https://localhost:8080/"
        },
        "id": "sn8n9-77MrmF",
        "outputId": "531e7ba6-5151-4825-a3e5-7f53da8d0eb2"
      },
      "execution_count": 6,
      "outputs": [
        {
          "output_type": "execute_result",
          "data": {
            "text/plain": [
              "TtestResult(statistic=1.0771886887354623, pvalue=0.2921048486141449, df=24)"
            ]
          },
          "metadata": {},
          "execution_count": 6
        }
      ]
    },
    {
      "cell_type": "code",
      "source": [
        "if result.pvalue < alpha:\n",
        "    print(\"We reject H0\")\n",
        "else:\n",
        "    print(\"We fail to reject H0\")"
      ],
      "metadata": {
        "colab": {
          "base_uri": "https://localhost:8080/"
        },
        "id": "2TgRVD4bM4h8",
        "outputId": "6bb62a26-b04d-465b-a6f8-0e1133a4a30d"
      },
      "execution_count": 7,
      "outputs": [
        {
          "output_type": "stream",
          "name": "stdout",
          "text": [
            "We fail to reject H0\n"
          ]
        }
      ]
    },
    {
      "cell_type": "markdown",
      "source": [
        "# Chi-square test\n",
        "* A Pearson's"
      ],
      "metadata": {
        "id": "pl7g4kk1Nmab"
      }
    },
    {
      "cell_type": "code",
      "source": [],
      "metadata": {
        "id": "ji49wcXpN_db"
      },
      "execution_count": null,
      "outputs": []
    }
  ]
}